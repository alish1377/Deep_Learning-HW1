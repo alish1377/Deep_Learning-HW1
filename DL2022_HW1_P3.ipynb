{
  "cells": [
    {
      "cell_type": "markdown",
      "metadata": {
        "deletable": false,
        "editable": false,
        "heading_collapsed": true,
        "run_control": {
          "frozen": true
        },
        "id": "ZSY5cx2hNCgW"
      },
      "source": [
        "# Deep Learning"
      ]
    },
    {
      "cell_type": "markdown",
      "metadata": {
        "deletable": false,
        "editable": false,
        "heading_collapsed": true,
        "hidden": true,
        "run_control": {
          "frozen": true
        },
        "id": "A1jpjNWbNCgY"
      },
      "source": [
        "## HW1- Problem 3 - Regression (100 pts)"
      ]
    },
    {
      "cell_type": "markdown",
      "metadata": {
        "heading_collapsed": true,
        "hidden": true,
        "id": "63OUJvMhNCgZ"
      },
      "source": [
        "### Please fill this part\n",
        "\n",
        "\n",
        "1.   Full Name: Ali Shahedi\n",
        "2.   Student Number: 401205712\n",
        "\n",
        "\n",
        "*You are just allowded to change those parts that start with \"TO DO\". Please do not change other parts.*\n",
        "\n",
        "*It is highly recommended to read each codeline carefully and try to understand what it exactly does. Best of luck and have fun!*"
      ]
    },
    {
      "cell_type": "code",
      "execution_count": null,
      "metadata": {
        "hidden": true,
        "id": "nT95XzhsNCgZ"
      },
      "outputs": [],
      "source": [
        "# You are not allowed to import other packages.\n",
        "\n",
        "import numpy as np\n",
        "import pandas as pd\n",
        "from matplotlib import pyplot as plt\n",
        "from sklearn.metrics import mean_squared_error"
      ]
    },
    {
      "cell_type": "markdown",
      "metadata": {
        "deletable": false,
        "editable": false,
        "heading_collapsed": true,
        "hidden": true,
        "run_control": {
          "frozen": true
        },
        "id": "c3vMFIOxNCgZ"
      },
      "source": [
        "### Part1:\n",
        "Consider the dataset which has been given to you. Split the dataset into the `training dataset` and `test dataset`. You can use `80%` of the data for training and the rest for testing."
      ]
    },
    {
      "cell_type": "code",
      "execution_count": null,
      "metadata": {
        "hidden": true,
        "id": "nl-H8YhtNCgZ"
      },
      "outputs": [],
      "source": [
        "dataset = pd.read_csv(\"./data01.csv\")\n",
        "\n",
        "# implement the split part\n",
        "# name them: x_train, x_test, y_train, y_test\n",
        "\n",
        "x_train = (dataset[0:int(len(dataset)*0.8)]['X']).values\n",
        "y_train = (dataset[0:int(len(dataset)*0.8)]['Y']).values\n",
        "x_test = (dataset[int(len(dataset)*0.8):]['X']).values\n",
        "y_test = (dataset[int(len(dataset)*0.8):]['Y']).values"
      ]
    },
    {
      "cell_type": "markdown",
      "metadata": {
        "deletable": false,
        "editable": false,
        "heading_collapsed": true,
        "hidden": true,
        "run_control": {
          "frozen": true
        },
        "id": "TUre2tXfNCgZ"
      },
      "source": [
        "### Part2:\n",
        "Assume there is simple linear relationship between X and Y. Train a simple `Linear Regression` on the training dataset and report its accuracy on the training and testing dataset, separately."
      ]
    },
    {
      "cell_type": "code",
      "execution_count": null,
      "metadata": {
        "hidden": true,
        "id": "IwkOHQBgNCga"
      },
      "outputs": [],
      "source": [
        "from numpy.random import MT19937\n",
        "# here you can implement via sgd or use least square solution. we suggest the second one inv(A^T A) * A^T y.\n",
        "# consider m as the returned line --> m[0] = the slope , m[1] = y intercept, also don't forget to use numpy for calculating m.\n",
        "\n",
        "m = np.linalg.lstsq(np.vstack([x_train, np.ones(len(x_train))]).T, y_train, rcond=None)[0]"
      ]
    },
    {
      "cell_type": "code",
      "execution_count": null,
      "metadata": {
        "hidden": true,
        "colab": {
          "base_uri": "https://localhost:8080/"
        },
        "id": "9AI38mioNCga",
        "outputId": "b4c38331-fe8d-49ae-cf26-16a9cae7ebb5"
      },
      "outputs": [
        {
          "output_type": "stream",
          "name": "stdout",
          "text": [
            "MSE train error: 0.3246776301777423\n",
            "MSE test error: 0.3544951192130029\n"
          ]
        }
      ],
      "source": [
        "predicted_train_y = m[0] * x_train + m[1]\n",
        "predicted_test_y = m[0] * x_test + m[1]\n",
        "\n",
        "train_error = mean_squared_error(predicted_train_y , y_train)\n",
        "test_error = mean_squared_error(predicted_test_y , y_test)\n",
        "\n",
        "print(f\"MSE train error: {train_error}\\nMSE test error: {test_error}\")"
      ]
    },
    {
      "cell_type": "markdown",
      "metadata": {
        "deletable": false,
        "editable": false,
        "heading_collapsed": true,
        "hidden": true,
        "run_control": {
          "frozen": true
        },
        "id": "zND5TPhrNCga"
      },
      "source": [
        "### Part3:\n",
        "Draw the line you've found in the last part, on train and test points (each separately)."
      ]
    },
    {
      "cell_type": "code",
      "execution_count": null,
      "metadata": {
        "hidden": true,
        "colab": {
          "base_uri": "https://localhost:8080/",
          "height": 298
        },
        "id": "cbt4GqNANCgb",
        "outputId": "be380e47-900c-4945-e740-77bd61a803c9"
      },
      "outputs": [
        {
          "output_type": "execute_result",
          "data": {
            "text/plain": [
              "Text(0.5, 1.0, 'Train dataset')"
            ]
          },
          "metadata": {},
          "execution_count": 103
        },
        {
          "output_type": "display_data",
          "data": {
            "text/plain": [
              "<Figure size 432x288 with 1 Axes>"
            ],
            "image/png": "[encoded data removed]"
          },
          "metadata": {
            "needs_background": "light"
          }
        }
      ],
      "source": [
        "plt.scatter(x_train, y_train)\n",
        "plt.scatter(x_train, m[0]*x_train + m[1], s=1)\n",
        "plt.title(\"Train dataset\")"
      ]
    },
    {
      "cell_type": "code",
      "execution_count": null,
      "metadata": {
        "hidden": true,
        "colab": {
          "base_uri": "https://localhost:8080/",
          "height": 298
        },
        "id": "haYohhbkNCgb",
        "outputId": "ee1295e4-0b20-4399-fb1b-64aafcb7832b"
      },
      "outputs": [
        {
          "output_type": "execute_result",
          "data": {
            "text/plain": [
              "Text(0.5, 1.0, 'Test dataset')"
            ]
          },
          "metadata": {},
          "execution_count": 104
        },
        {
          "output_type": "display_data",
          "data": {
            "text/plain": [
              "<Figure size 432x288 with 1 Axes>"
            ],
            "image/png": "[encoded data removed]"
          },
          "metadata": {
            "needs_background": "light"
          }
        }
      ],
      "source": [
        "plt.scatter(x_test, y_test)\n",
        "plt.scatter(x_test, m[0]*x_test + m[1], s=1)\n",
        "plt.title(\"Test dataset\")"
      ]
    },
    {
      "cell_type": "markdown",
      "metadata": {
        "deletable": false,
        "editable": false,
        "heading_collapsed": true,
        "hidden": true,
        "run_control": {
          "frozen": true
        },
        "id": "Lu5hfBagNCgb"
      },
      "source": [
        "### Part4:\n",
        "Were the reported accuracies acceptable?\n",
        "\n",
        "What about the line you drew in the last part?\n",
        "\n",
        "Was it appropriate for the dataset?\n",
        "<br><br/>\n",
        "Explain what are the main problems here."
      ]
    },
    {
      "cell_type": "markdown",
      "metadata": {
        "hidden": true,
        "id": "KmZxW_eENCgc"
      },
      "source": [
        "**Part4 answere:**\n",
        "\n",
        "i. Generally if the RMSE(Root of MSE) value is in range of [0.2,0.5], \n",
        "we can say our model relatively predict well. in this example the train_RMSE = sqrt(.3246) = 0.57 and test_RMSE = 0.596, So by this results, the model accuracies is not acceptable(we could use the better mertic called R_squraed value)\n",
        "\n",
        "ii. Projected lines for both train and test sets are inappropriate. because the relationship between X and Y of train and test datastes are non-linear (based on plots)\n",
        "\n",
        "iii. because both train and test sets have same non-linear  distribution, the dataset also has non-linear  distribution like these sets, So this model does not appropraite for dataset\n",
        "\n",
        "The main problem is that the model designed based on the linearity relevance between X and Y, But in reality(based on plots) input and output are linked in non-linear space, So even the best line does not fit on the model exactly"
      ]
    },
    {
      "cell_type": "markdown",
      "metadata": {
        "deletable": false,
        "editable": false,
        "heading_collapsed": true,
        "hidden": true,
        "run_control": {
          "frozen": true
        },
        "id": "RLfEBfpGNCgc"
      },
      "source": [
        "### Part5:\n",
        "Now, consider the `Locally Weighted Linear Regression` approach for this problem. Do expect it performs better than simple `Linear Regression` for this dataset?"
      ]
    },
    {
      "cell_type": "markdown",
      "metadata": {
        "hidden": true,
        "id": "LCBCSlUmNCgc"
      },
      "source": [
        "**answere**\n",
        "In this method, cost function is applied with another weight which is added to this cost, the formula is \\begin{equation*}J(θ)=∑w^{(i)}(y^{(i)}−θ^{(T)}x^{(i)})^2\\end{equation*}\n",
        "w is non-negative parameter. for input which is close to query point, the corresponding w is large and for for input which is far from query point, the w is small. with this method, the non_linear curve fit well on our datasets.\n",
        "\n",
        "\n"
      ]
    },
    {
      "cell_type": "markdown",
      "metadata": {
        "deletable": false,
        "editable": false,
        "heading_collapsed": true,
        "hidden": true,
        "run_control": {
          "frozen": true
        },
        "id": "RhVl7hGZNCgd"
      },
      "source": [
        "### Part6:\n",
        "Here, we want to implement the `suggested model`. You can implement any weight function you want, the below implementation is just a sample:\n",
        "<br><br/>\n",
        "\\begin{equation*}\n",
        "    w^{(i)}=exp\\left(-\\frac{(\\mathbf x^{(i)}-\\mathbf x)^\\top(\\mathbf x^{(i)}-\\mathbf x)}{2\\tau^2}\\right)\n",
        "\\end{equation*}"
      ]
    },
    {
      "cell_type": "code",
      "execution_count": null,
      "metadata": {
        "hidden": true,
        "id": "bFbxK0B7NCgd"
      },
      "outputs": [],
      "source": [
        "def get_weight_matrix(the_query_point, train_dataset, hyperparameter):\n",
        "    l = train_dataset.shape[0]\n",
        "    W = np.mat(np.eye(l))\n",
        "    for i, xi in enumerate(train_dataset):\n",
        "        W[i, i] = np.exp(np.dot((xi-the_query_point), (xi-the_query_point).T)/(-2 * hyperparameter **2))\n",
        "    return W"
      ]
    },
    {
      "cell_type": "markdown",
      "metadata": {
        "deletable": false,
        "editable": false,
        "hidden": true,
        "run_control": {
          "frozen": true
        },
        "id": "CDBIZ2S3NCgd"
      },
      "source": [
        "Now implement the `closed form solution` based on the following formula:\n",
        "<br><br/>\n",
        "\\begin{equation*}\n",
        "    \\boldsymbol\\theta=(X^\\top WX)^{-1}(X^\\top WY)\n",
        "\\end{equation*}\n",
        "<br><br/>\n",
        "Of course if you use another form, implement your own."
      ]
    },
    {
      "cell_type": "code",
      "execution_count": null,
      "metadata": {
        "hidden": true,
        "id": "v5BGBOXaNCgd"
      },
      "outputs": [],
      "source": [
        "def predict(train_X, train_Y, query_x, hyperparameter):\n",
        "    l = train_X.shape[0]\n",
        "    X = np.hstack((np.expand_dims(train_X,axis=1), np.ones((l,1))))\n",
        "    qx = np.mat([query_x, 1])\n",
        "    W = get_weight_matrix(qx, X, hyperparameter)\n",
        "    theta = np.linalg.pinv(X.T*(W * X))*(X.T*(W * (np.expand_dims(train_Y,axis=1))))\n",
        "    return np.dot(qx, theta)"
      ]
    },
    {
      "cell_type": "markdown",
      "metadata": {
        "deletable": false,
        "editable": false,
        "heading_collapsed": true,
        "hidden": true,
        "run_control": {
          "frozen": true
        },
        "id": "AaNuUTKxNCge"
      },
      "source": [
        "### Part7:\n",
        "Report accuracy of this model on the test dataset. Also, draw a plot that contains (x_test, y_test) pairs and (x_test, predicted_y) pairs that differ in color."
      ]
    },
    {
      "cell_type": "code",
      "execution_count": null,
      "metadata": {
        "hidden": true,
        "id": "5hXWT5dRNCge",
        "colab": {
          "base_uri": "https://localhost:8080/"
        },
        "outputId": "d8ddadbc-cfa8-4f6b-d6ad-d057d3cd70a0"
      },
      "outputs": [
        {
          "output_type": "stream",
          "name": "stdout",
          "text": [
            "MSE test error: 0.10590729682859994\n"
          ]
        }
      ],
      "source": [
        "hyperparameter=0.1\n",
        "predicted_test = [predict(x_train, y_train, query, hyperparameter) for query in x_test]\n",
        "error = mean_squared_error((np.asarray(predicted_test))[:,0,0] , y_test)\n",
        "print(f\"MSE test error: {error}\")"
      ]
    },
    {
      "cell_type": "code",
      "execution_count": null,
      "metadata": {
        "hidden": true,
        "id": "zVeF5UqFNCge",
        "colab": {
          "base_uri": "https://localhost:8080/",
          "height": 283
        },
        "outputId": "19994cb5-3b9c-486f-a3b8-251599c1d06c"
      },
      "outputs": [
        {
          "output_type": "execute_result",
          "data": {
            "text/plain": [
              "<matplotlib.collections.PathCollection at 0x7f4488306c50>"
            ]
          },
          "metadata": {},
          "execution_count": 108
        },
        {
          "output_type": "display_data",
          "data": {
            "text/plain": [
              "<Figure size 432x288 with 1 Axes>"
            ],
            "image/png": "[encoded data removed]"
          },
          "metadata": {
            "needs_background": "light"
          }
        }
      ],
      "source": [
        "plt.scatter(x_test, y_test, c=\"blue\")\n",
        "plt.scatter(x_test, predicted_test, c=\"yellow\")"
      ]
    },
    {
      "cell_type": "markdown",
      "metadata": {
        "deletable": false,
        "editable": false,
        "heading_collapsed": true,
        "hidden": true,
        "run_control": {
          "frozen": true
        },
        "id": "fRLcu_RINCgf"
      },
      "source": [
        "### Part8:\n",
        "Is the performance of the new model better than the previous one? `Explain`."
      ]
    },
    {
      "cell_type": "markdown",
      "metadata": {
        "hidden": true,
        "id": "H91cFOgZNCgf"
      },
      "source": [
        "**Answere:**\n",
        "Yes. Based on the fit curve on the plot and the RMSE(sqrt(0.105)) = .324 that is in [0.2,0,5] range, our new model perdict better than first one"
      ]
    },
    {
      "cell_type": "markdown",
      "metadata": {
        "deletable": false,
        "editable": false,
        "heading_collapsed": true,
        "hidden": true,
        "run_control": {
          "frozen": true
        },
        "id": "WSywjbbNNCgf"
      },
      "source": [
        "### Part9:\n",
        "Now, we want to consider the `KNN` approach for this problem; Do you think it will perform well?"
      ]
    },
    {
      "cell_type": "markdown",
      "metadata": {
        "hidden": true,
        "id": "HeNTe7DzNCgf"
      },
      "source": [
        "**Answere 9**\n",
        "\n",
        "I think it performs well beacause it can fit the desirable curve on the dataset and can be advance by changing the k_value. this dataset is small and low_feature which may be appropriate for KNN model"
      ]
    },
    {
      "cell_type": "markdown",
      "metadata": {
        "deletable": false,
        "editable": false,
        "heading_collapsed": true,
        "hidden": true,
        "run_control": {
          "frozen": true
        },
        "id": "RW5yUsjJNCgf"
      },
      "source": [
        "### Part10:\n",
        "Implementing the `KNN model`."
      ]
    },
    {
      "cell_type": "code",
      "execution_count": null,
      "metadata": {
        "hidden": true,
        "id": "EahOiYz2NCgg"
      },
      "outputs": [],
      "source": [
        "class KNN:\n",
        "    def __init__(self, number_neighbours, X, Y):\n",
        "        self.k = number_neighbours\n",
        "        self.X = X\n",
        "        self.Y = Y\n",
        "\n",
        "    def distance(self, x1, x2):\n",
        "        distance = abs(x1-x2)\n",
        "        return distance\n",
        "\n",
        "    def return_nn_ids(self, x):\n",
        "        indices = np.argsort(np.array([self.distance(x,x1) for x1 in self.X]))[:self.k]\n",
        "        return indices\n",
        "\n",
        "    def predict(self, x):\n",
        "        neareest_indices = self.return_nn_ids(x)\n",
        "        predicted_y = np.mean(np.take(self.Y, list(neareest_indices)))\n",
        "        return predicted_y"
      ]
    },
    {
      "cell_type": "code",
      "execution_count": null,
      "metadata": {
        "hidden": true,
        "id": "_sEuU0-nNCgg"
      },
      "outputs": [],
      "source": [
        "def evaluation(k, x_train, y_train, x_test, y_test):\n",
        "    model = KNN(k, x_train, y_train)\n",
        "    predicted_y = [model.predict(x) for x in x_test]\n",
        "    error = mean_squared_error(np.asarray(predicted_y) , y_test)\n",
        "    return error, predicted_y"
      ]
    },
    {
      "cell_type": "code",
      "execution_count": null,
      "metadata": {
        "hidden": true,
        "id": "sgzyHfuzNCgg",
        "colab": {
          "base_uri": "https://localhost:8080/"
        },
        "outputId": "97de3eb4-752a-47fa-ce2b-e7e52db781da"
      },
      "outputs": [
        {
          "output_type": "stream",
          "name": "stdout",
          "text": [
            "MSE error of KNN for test dataset: 0.09717571174237101\n"
          ]
        }
      ],
      "source": [
        "k = 30\n",
        "error_knn, predicted_y = evaluation(k, x_train, y_train, x_test, y_test)\n",
        "print(f\"MSE error of KNN for test dataset: {error_knn}\")"
      ]
    },
    {
      "cell_type": "code",
      "execution_count": null,
      "metadata": {
        "hidden": true,
        "id": "DTggHfvUNCgg",
        "colab": {
          "base_uri": "https://localhost:8080/",
          "height": 283
        },
        "outputId": "48acc2e4-1bb4-4b25-9df8-6bda73165e29"
      },
      "outputs": [
        {
          "output_type": "execute_result",
          "data": {
            "text/plain": [
              "<matplotlib.collections.PathCollection at 0x7f448827bf90>"
            ]
          },
          "metadata": {},
          "execution_count": 112
        },
        {
          "output_type": "display_data",
          "data": {
            "text/plain": [
              "<Figure size 432x288 with 1 Axes>"
            ],
            "image/png": "[encoded data removed]"
          },
          "metadata": {
            "needs_background": "light"
          }
        }
      ],
      "source": [
        "plt.scatter(x_test, y_test, c=\"blue\")\n",
        "plt.scatter(x_test, predicted_y, c=\"yellow\")"
      ]
    },
    {
      "cell_type": "markdown",
      "metadata": {
        "deletable": false,
        "editable": false,
        "hidden": true,
        "run_control": {
          "frozen": true
        },
        "id": "mhzONIe4NCgh"
      },
      "source": [
        "To find best K for this algorithm we suggest to use cross-validation.\n",
        "<br><br/>\n",
        "Did this model perform well (due to the plot and test accuracy)?"
      ]
    },
    {
      "cell_type": "markdown",
      "metadata": {
        "hidden": true,
        "id": "pRbF_MipNCgh"
      },
      "source": [
        "**Answere**\n",
        "\n",
        "Yes, based on plots and MSE, the model performs well like Locally Weighted Linear Regression.\n",
        "\n",
        "In cell below, the 4_fold_cross validation is cosidered to select the best k value for KNN model"
      ]
    },
    {
      "cell_type": "code",
      "source": [
        "# 4_fold Cross validation to find the best k ====> for each run = train : 60%, validation : 20%, test : 20%\n",
        "\n",
        "#Shuffle dataset\n",
        "shuffled_dataset = dataset.iloc[np.random.permutation(len(dataset))]\n",
        "\n",
        "#Test for odd k values\n",
        "val_mse_losses = []\n",
        "test_mse_losses = []\n",
        "\n",
        "train_df = shuffled_dataset[0 : int(0.8*len(shuffled_dataset))]\n",
        "test_df = shuffled_dataset[int(0.8*len(shuffled_dataset)) :]\n",
        "\n",
        "K_list = [K for K in range(1,50)]\n",
        "for K in K_list:\n",
        "    error_val_parts=[]\n",
        "    for i in [0, 0.25, 0.5, 0.75]:\n",
        "        val_fold_df = train_df[int(i*len(train_df)): int((i+0.25)* len(train_df))]\n",
        "        train_fold_df = pd.concat([train_df,val_fold_df]).drop_duplicates(keep=False)\n",
        "        x_train, y_train = (train_fold_df['X']).values, (train_fold_df['Y']).values\n",
        "        x_val, y_val = (val_fold_df['X']).values, (val_fold_df['Y']).values\n",
        "        val_error_knn, _ = evaluation(K, x_train, y_train, x_val, y_val)\n",
        "        error_val_parts.append(val_error_knn)\n",
        "    val_mse_losses.append(np.mean(error_val_parts))\n",
        "    test_error_knn, _ = evaluation(K, x_train, y_train, test_df['X'], test_df['Y'])\n",
        "    test_mse_losses.append(test_error_knn)\n",
        "\n",
        "#Plot mse for validation and test results based on k values\n",
        "plt.figure(figsize=(16, 8))\n",
        "plt.subplot(1,2,1)\n",
        "plt.title(\"MSE for validation dataset based on k values\")\n",
        "plt.xlabel(\"#K\")\n",
        "plt.ylabel(\"Val MSE\")\n",
        "plt.plot(K_list, val_mse_losses, color='darkorange')\n",
        "plt.subplot(1,2,2)\n",
        "plt.title(\"MSE for test dataset based on k values\")\n",
        "plt.xlabel(\"#K\")\n",
        "plt.ylabel(\"Test MSE\")\n",
        "plt.plot(K_list, test_mse_losses, color='darkred')\n",
        "\n",
        "print(f\"Best k value for the validation set and MSE are : {K_list[val_mse_losses.index(min(val_mse_losses))]} , {min(val_mse_losses)}\")\n",
        "print(f\"Best k value for the test set is : {K_list[test_mse_losses.index(min(test_mse_losses))]} , {min(test_mse_losses)}\")    "
      ],
      "metadata": {
        "colab": {
          "base_uri": "https://localhost:8080/",
          "height": 548
        },
        "id": "dsfEKhSh0Djd",
        "outputId": "67a45dad-1e67-41c9-ece0-e2c53c36d31c"
      },
      "execution_count": null,
      "outputs": [
        {
          "output_type": "stream",
          "name": "stdout",
          "text": [
            "Best k value for the validation set and MSE are : 15 , 0.09356889899759778\n",
            "Best k value for the test set is : 11 , 0.08234772462333229\n"
          ]
        },
        {
          "output_type": "display_data",
          "data": {
            "text/plain": [
              "<Figure size 1152x576 with 2 Axes>"
            ],
            "image/png": "[encoded data removed]"
          },
          "metadata": {
            "needs_background": "light"
          }
        }
      ]
    },
    {
      "cell_type": "markdown",
      "source": [
        "**4_fold_validation Answere**\n",
        "\n",
        "In the above cell, 4_fold_validation was executed with KNN model. the value of K has changed in the [1,50] range, and after the execution of cross_validation on these k values, MSE plots for test and validation sets are drawn. based on these plots, the best k value on validation folds is 11. So for the test, we should select k=11 as the optimum value for KNN, but based on the test plot, the best k value is 15. We should consider this point that because of the randomness split of data, the values of k in validation and test were not the same, but the difference between optimum k in these 2 plots is too small that make up select k=11 as the optimum k for test set"
      ],
      "metadata": {
        "id": "XoCBnU9bZ0Is"
      }
    }
  ],
  "metadata": {
    "kernelspec": {
      "display_name": "Python 3.7.4 64-bit",
      "language": "python",
      "name": "python3"
    },
    "language_info": {
      "codemirror_mode": {
        "name": "ipython",
        "version": 3
      },
      "file_extension": ".py",
      "mimetype": "text/x-python",
      "name": "python",
      "nbconvert_exporter": "python",
      "pygments_lexer": "ipython3",
      "version": "3.7.4"
    },
    "toc": {
      "base_numbering": 1,
      "nav_menu": {},
      "number_sections": true,
      "sideBar": true,
      "skip_h1_title": false,
      "title_cell": "Table of Contents",
      "title_sidebar": "Contents",
      "toc_cell": false,
      "toc_position": {},
      "toc_section_display": true,
      "toc_window_display": false
    },
    "varInspector": {
      "cols": {
        "lenName": 16,
        "lenType": 16,
        "lenVar": 40
      },
      "kernels_config": {
        "python": {
          "delete_cmd_postfix": "",
          "delete_cmd_prefix": "del ",
          "library": "var_list.py",
          "varRefreshCmd": "print(var_dic_list())"
        },
        "r": {
          "delete_cmd_postfix": ") ",
          "delete_cmd_prefix": "rm(",
          "library": "var_list.r",
          "varRefreshCmd": "cat(var_dic_list()) "
        }
      },
      "types_to_exclude": [
        "module",
        "function",
        "builtin_function_or_method",
        "instance",
        "_Feature"
      ],
      "window_display": false
    },
    "vscode": {
      "interpreter": {
        "hash": "aee8b7b246df8f9039afb4144a1f6fd8d2ca17a180786b69acc140d282b71a49"
      }
    },
    "colab": {
      "provenance": [],
      "collapsed_sections": []
    }
  },
  "nbformat": 4,
  "nbformat_minor": 0
}